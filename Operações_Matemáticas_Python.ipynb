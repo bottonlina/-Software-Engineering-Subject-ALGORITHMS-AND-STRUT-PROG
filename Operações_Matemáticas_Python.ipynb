{
  "nbformat": 4,
  "nbformat_minor": 0,
  "metadata": {
    "colab": {
      "name": "Operações Matemáticas Python",
      "provenance": [],
      "collapsed_sections": [],
      "authorship_tag": "ABX9TyMYh37VmfRDlxt1o9z5SFiX"
    },
    "kernelspec": {
      "name": "python3",
      "display_name": "Python 3"
    },
    "language_info": {
      "name": "python"
    }
  },
  "cells": [
    {
      "cell_type": "markdown",
      "source": [
        "#### Teste de Operações matemáticas"
      ],
      "metadata": {
        "id": "C7atHxde7SjP"
      }
    },
    {
      "cell_type": "code",
      "execution_count": 1,
      "metadata": {
        "colab": {
          "base_uri": "https://localhost:8080/"
        },
        "id": "4M1r7dAA6m2z",
        "outputId": "69ce0bf5-f396-4282-9b05-797ebad3383b"
      },
      "outputs": [
        {
          "output_type": "stream",
          "name": "stdout",
          "text": [
            "Resultado em operacao_1 = 32\n",
            "Resultado em operacao_2 = 50\n",
            "Resultado em operacao_3 = 5.0\n",
            "Resultado em operacao_4 = 6\n"
          ]
        }
      ],
      "source": [
        "# Qual o resultado armazendo na variável operacao_1: 25 ou 40? \n",
        "operacao_1 = 2 + 6 * 5\n",
        "\n",
        "# Qual o resultado armazendo na variável operacao_2: 50 ou 25? \n",
        "operacao_2 = (7 + 3) * 5\n",
        "\n",
        "# Qual o resultado armazendo na variável operacao_3: 4 ou 5?\n",
        "operacao_3 = 80 / 4 ** 2\n",
        "\n",
        "# Qual o resultado armazendo na variável operacao_4: 9 ou 8?\n",
        "operacao_4 = 35 % 3 + 4\n",
        "\n",
        "\n",
        "print(f\"Resultado em operacao_1 = {operacao_1}\")\n",
        "print(f\"Resultado em operacao_2 = {operacao_2}\")\n",
        "print(f\"Resultado em operacao_3 = {operacao_3}\")\n",
        "print(f\"Resultado em operacao_4 = {operacao_4}\")"
      ]
    },
    {
      "cell_type": "code",
      "source": [
        "a = 2\n",
        "b = 0.5\n",
        "c = 1\n",
        "\n",
        "x = input(\"Digite o valor de x: \")\n",
        "\n",
        "y = a * x ** 2 + b * x + c\n",
        "\n",
        "print(f\"O resultado de y = {x} é {y}.\")\n"
      ],
      "metadata": {
        "id": "3XE78M9g8FZR"
      },
      "execution_count": null,
      "outputs": []
    },
    {
      "cell_type": "code",
      "source": [
        "\n",
        "print(type(a))\n",
        "print(type(b))\n",
        "print(type(c))\n",
        "print(type(x))"
      ],
      "metadata": {
        "colab": {
          "base_uri": "https://localhost:8080/"
        },
        "id": "vjF-inXd9vWf",
        "outputId": "646cf2e2-2d65-47e9-98e6-de0241c98ca2"
      },
      "execution_count": 5,
      "outputs": [
        {
          "output_type": "stream",
          "name": "stdout",
          "text": [
            "<class 'int'>\n",
            "<class 'float'>\n",
            "<class 'int'>\n",
            "<class 'str'>\n"
          ]
        }
      ]
    },
    {
      "cell_type": "code",
      "source": [
        "a = 2\n",
        "b = 0.5\n",
        "c = 1\n",
        "\n",
        "x = input(\"Digite o valor de x: \")\n",
        "\n",
        "x = float(x)  # aqui fazemos a conversão da string para o tipo numérico\n",
        "\n",
        "y = a * x ** 2 + b * x + c\n",
        "\n",
        "\n",
        "print(f\"O resultado de y = {x} é {y}.\")"
      ],
      "metadata": {
        "colab": {
          "base_uri": "https://localhost:8080/"
        },
        "id": "Ba_6v0zS-C8g",
        "outputId": "39b1a810-fad2-4b38-85b2-2a070a73f2f0"
      },
      "execution_count": 9,
      "outputs": [
        {
          "output_type": "stream",
          "name": "stdout",
          "text": [
            "Digite o valor de x: 2\n",
            "O resultado de y = 2.0 é 10.0.\n"
          ]
        }
      ]
    }
  ]
}