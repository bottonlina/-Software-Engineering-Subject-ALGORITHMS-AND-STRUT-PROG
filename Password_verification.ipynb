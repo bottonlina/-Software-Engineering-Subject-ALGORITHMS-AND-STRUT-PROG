{
  "nbformat": 4,
  "nbformat_minor": 0,
  "metadata": {
    "colab": {
      "name": "Password verification",
      "provenance": [],
      "collapsed_sections": [],
      "authorship_tag": "ABX9TyOn18JtG44VvHxoGtoJ/NqC"
    },
    "kernelspec": {
      "name": "python3",
      "display_name": "Python 3"
    },
    "language_info": {
      "name": "python"
    }
  },
  "cells": [
    {
      "cell_type": "markdown",
      "source": [
        "### PRATICANDO\n",
        "##### Verificador de senhas do usuário - Estruturas condicionais - Python"
      ],
      "metadata": {
        "id": "GzfDZwrNLSw1"
      }
    },
    {
      "cell_type": "code",
      "execution_count": null,
      "metadata": {
        "colab": {
          "base_uri": "https://localhost:8080/"
        },
        "id": "dhuBg11yLGsj",
        "outputId": "e72e4b7c-86dc-4fed-fcdb-593adf7753b3"
      },
      "outputs": [
        {
          "output_type": "stream",
          "name": "stdout",
          "text": [
            "Inform your login: userpy\n",
            "Inform your password: testing123\n",
            "Welcome userpy01\n"
          ]
        }
      ],
      "source": [
        "login = input(\"Inform your login: \")\n",
        "password = input(\"Inform your password: \")\n",
        "if login == \"userpy\" and password == \"testing123\":\n",
        "   print(\"Welcome userpy01\")\n",
        "else:\n",
        "   print(\"login failed, verify your password and try again\")"
      ]
    },
    {
      "cell_type": "code",
      "source": [
        "login = input(\"Inform your login:\")\n",
        "password = input(\"Inform your password: \")\n",
        "if login == \"userpy01\" and password == \"test01\":\n",
        "    print(\"Welcome userpy01\")\n",
        "elif login == \"userpy02\" and password == \"test02\":\n",
        "    print(\"Welcome userpy02\")\n",
        "elif login == \"userpy03\" and password == \"test03\":\n",
        "    print(\"Welcome userpy03\")\n",
        "elif login == \"userpy04\" and password == \"test04\":\n",
        "    print(\"Welcome userpy04\")\n",
        "else:\n",
        "    print(\"login failed!\")"
      ],
      "metadata": {
        "colab": {
          "base_uri": "https://localhost:8080/"
        },
        "id": "PYVNZDnJOcsU",
        "outputId": "c9ca85e9-3a48-459f-baf7-cab4041721cf"
      },
      "execution_count": null,
      "outputs": [
        {
          "output_type": "stream",
          "name": "stdout",
          "text": [
            "Inform your login:userpy03\n",
            "Inform your password: test01\n",
            "login failed!\n"
          ]
        }
      ]
    }
  ]
}